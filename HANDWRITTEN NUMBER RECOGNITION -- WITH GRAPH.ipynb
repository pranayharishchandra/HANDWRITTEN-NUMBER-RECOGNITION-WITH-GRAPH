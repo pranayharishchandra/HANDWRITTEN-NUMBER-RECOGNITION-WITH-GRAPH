{
 "cells": [
  {
   "cell_type": "markdown",
   "id": "88de3805-1840-4884-9226-3dfc983723df",
   "metadata": {},
   "source": [
    "## FETCHING DATASET"
   ]
  },
  {
   "cell_type": "code",
   "execution_count": 1,
   "id": "82705130-7696-44e8-8046-b99148cf65dc",
   "metadata": {},
   "outputs": [],
   "source": [
    "# fetch_openml function is used to fetch datasets from the OpenML repository.\n",
    "# Load MNIST dataset, dataset with 784 features (28x28 pixel images).\n",
    "\n",
    "from sklearn.datasets import fetch_openml\n",
    "\n",
    "mnist = fetch_openml('mnist_784', version=1, cache=True, parser='auto')"
   ]
  },
  {
   "cell_type": "code",
   "execution_count": 2,
   "id": "5af45b99-4dc5-485e-8d2f-bdcf077ceffa",
   "metadata": {},
   "outputs": [
    {
     "name": "stdout",
     "output_type": "stream",
     "text": [
      "dict_keys(['data', 'target', 'frame', 'categories', 'feature_names', 'target_names', 'DESCR', 'details', 'url'])\n"
     ]
    }
   ],
   "source": [
    "print(mnist.keys())"
   ]
  },
  {
   "cell_type": "code",
   "execution_count": 3,
   "id": "41e8dcc4-02a5-46ea-be57-3ea997be2274",
   "metadata": {},
   "outputs": [],
   "source": [
    "# Extract features and labels\n",
    "X = mnist.data\n",
    "y = mnist.target\n",
    "\n",
    "# Convert string labels to integers\n",
    "y = y.astype(int)   # 0"
   ]
  },
  {
   "cell_type": "code",
   "execution_count": 4,
   "id": "71a84b69-78f4-4014-b48b-233a8748399a",
   "metadata": {},
   "outputs": [],
   "source": [
    "# mnist['feature_names']           # pixel1 to pixel784"
   ]
  },
  {
   "cell_type": "code",
   "execution_count": 5,
   "id": "9dde5585-bff1-4566-bdd7-409ed30d3568",
   "metadata": {},
   "outputs": [
    {
     "name": "stdout",
     "output_type": "stream",
     "text": [
      "shape:  (70000, 784)\n"
     ]
    }
   ],
   "source": [
    "# 70000 x 784 --> 2D numpy array\n",
    "# 70000 rows × 784 columns\n",
    "print('shape: ', X.shape)\n"
   ]
  },
  {
   "cell_type": "code",
   "execution_count": 6,
   "id": "0f1ff8d6-b302-46e9-b072-3f28bae069f8",
   "metadata": {},
   "outputs": [
    {
     "data": {
      "text/html": [
       "<div>\n",
       "<style scoped>\n",
       "    .dataframe tbody tr th:only-of-type {\n",
       "        vertical-align: middle;\n",
       "    }\n",
       "\n",
       "    .dataframe tbody tr th {\n",
       "        vertical-align: top;\n",
       "    }\n",
       "\n",
       "    .dataframe thead th {\n",
       "        text-align: right;\n",
       "    }\n",
       "</style>\n",
       "<table border=\"1\" class=\"dataframe\">\n",
       "  <thead>\n",
       "    <tr style=\"text-align: right;\">\n",
       "      <th></th>\n",
       "      <th>pixel1</th>\n",
       "      <th>pixel2</th>\n",
       "      <th>pixel3</th>\n",
       "      <th>pixel4</th>\n",
       "      <th>pixel5</th>\n",
       "      <th>pixel6</th>\n",
       "      <th>pixel7</th>\n",
       "      <th>pixel8</th>\n",
       "      <th>pixel9</th>\n",
       "      <th>pixel10</th>\n",
       "      <th>...</th>\n",
       "      <th>pixel775</th>\n",
       "      <th>pixel776</th>\n",
       "      <th>pixel777</th>\n",
       "      <th>pixel778</th>\n",
       "      <th>pixel779</th>\n",
       "      <th>pixel780</th>\n",
       "      <th>pixel781</th>\n",
       "      <th>pixel782</th>\n",
       "      <th>pixel783</th>\n",
       "      <th>pixel784</th>\n",
       "    </tr>\n",
       "  </thead>\n",
       "  <tbody>\n",
       "    <tr>\n",
       "      <th>0</th>\n",
       "      <td>0</td>\n",
       "      <td>0</td>\n",
       "      <td>0</td>\n",
       "      <td>0</td>\n",
       "      <td>0</td>\n",
       "      <td>0</td>\n",
       "      <td>0</td>\n",
       "      <td>0</td>\n",
       "      <td>0</td>\n",
       "      <td>0</td>\n",
       "      <td>...</td>\n",
       "      <td>0</td>\n",
       "      <td>0</td>\n",
       "      <td>0</td>\n",
       "      <td>0</td>\n",
       "      <td>0</td>\n",
       "      <td>0</td>\n",
       "      <td>0</td>\n",
       "      <td>0</td>\n",
       "      <td>0</td>\n",
       "      <td>0</td>\n",
       "    </tr>\n",
       "    <tr>\n",
       "      <th>1</th>\n",
       "      <td>0</td>\n",
       "      <td>0</td>\n",
       "      <td>0</td>\n",
       "      <td>0</td>\n",
       "      <td>0</td>\n",
       "      <td>0</td>\n",
       "      <td>0</td>\n",
       "      <td>0</td>\n",
       "      <td>0</td>\n",
       "      <td>0</td>\n",
       "      <td>...</td>\n",
       "      <td>0</td>\n",
       "      <td>0</td>\n",
       "      <td>0</td>\n",
       "      <td>0</td>\n",
       "      <td>0</td>\n",
       "      <td>0</td>\n",
       "      <td>0</td>\n",
       "      <td>0</td>\n",
       "      <td>0</td>\n",
       "      <td>0</td>\n",
       "    </tr>\n",
       "    <tr>\n",
       "      <th>2</th>\n",
       "      <td>0</td>\n",
       "      <td>0</td>\n",
       "      <td>0</td>\n",
       "      <td>0</td>\n",
       "      <td>0</td>\n",
       "      <td>0</td>\n",
       "      <td>0</td>\n",
       "      <td>0</td>\n",
       "      <td>0</td>\n",
       "      <td>0</td>\n",
       "      <td>...</td>\n",
       "      <td>0</td>\n",
       "      <td>0</td>\n",
       "      <td>0</td>\n",
       "      <td>0</td>\n",
       "      <td>0</td>\n",
       "      <td>0</td>\n",
       "      <td>0</td>\n",
       "      <td>0</td>\n",
       "      <td>0</td>\n",
       "      <td>0</td>\n",
       "    </tr>\n",
       "    <tr>\n",
       "      <th>3</th>\n",
       "      <td>0</td>\n",
       "      <td>0</td>\n",
       "      <td>0</td>\n",
       "      <td>0</td>\n",
       "      <td>0</td>\n",
       "      <td>0</td>\n",
       "      <td>0</td>\n",
       "      <td>0</td>\n",
       "      <td>0</td>\n",
       "      <td>0</td>\n",
       "      <td>...</td>\n",
       "      <td>0</td>\n",
       "      <td>0</td>\n",
       "      <td>0</td>\n",
       "      <td>0</td>\n",
       "      <td>0</td>\n",
       "      <td>0</td>\n",
       "      <td>0</td>\n",
       "      <td>0</td>\n",
       "      <td>0</td>\n",
       "      <td>0</td>\n",
       "    </tr>\n",
       "    <tr>\n",
       "      <th>4</th>\n",
       "      <td>0</td>\n",
       "      <td>0</td>\n",
       "      <td>0</td>\n",
       "      <td>0</td>\n",
       "      <td>0</td>\n",
       "      <td>0</td>\n",
       "      <td>0</td>\n",
       "      <td>0</td>\n",
       "      <td>0</td>\n",
       "      <td>0</td>\n",
       "      <td>...</td>\n",
       "      <td>0</td>\n",
       "      <td>0</td>\n",
       "      <td>0</td>\n",
       "      <td>0</td>\n",
       "      <td>0</td>\n",
       "      <td>0</td>\n",
       "      <td>0</td>\n",
       "      <td>0</td>\n",
       "      <td>0</td>\n",
       "      <td>0</td>\n",
       "    </tr>\n",
       "    <tr>\n",
       "      <th>...</th>\n",
       "      <td>...</td>\n",
       "      <td>...</td>\n",
       "      <td>...</td>\n",
       "      <td>...</td>\n",
       "      <td>...</td>\n",
       "      <td>...</td>\n",
       "      <td>...</td>\n",
       "      <td>...</td>\n",
       "      <td>...</td>\n",
       "      <td>...</td>\n",
       "      <td>...</td>\n",
       "      <td>...</td>\n",
       "      <td>...</td>\n",
       "      <td>...</td>\n",
       "      <td>...</td>\n",
       "      <td>...</td>\n",
       "      <td>...</td>\n",
       "      <td>...</td>\n",
       "      <td>...</td>\n",
       "      <td>...</td>\n",
       "      <td>...</td>\n",
       "    </tr>\n",
       "    <tr>\n",
       "      <th>69995</th>\n",
       "      <td>0</td>\n",
       "      <td>0</td>\n",
       "      <td>0</td>\n",
       "      <td>0</td>\n",
       "      <td>0</td>\n",
       "      <td>0</td>\n",
       "      <td>0</td>\n",
       "      <td>0</td>\n",
       "      <td>0</td>\n",
       "      <td>0</td>\n",
       "      <td>...</td>\n",
       "      <td>0</td>\n",
       "      <td>0</td>\n",
       "      <td>0</td>\n",
       "      <td>0</td>\n",
       "      <td>0</td>\n",
       "      <td>0</td>\n",
       "      <td>0</td>\n",
       "      <td>0</td>\n",
       "      <td>0</td>\n",
       "      <td>0</td>\n",
       "    </tr>\n",
       "    <tr>\n",
       "      <th>69996</th>\n",
       "      <td>0</td>\n",
       "      <td>0</td>\n",
       "      <td>0</td>\n",
       "      <td>0</td>\n",
       "      <td>0</td>\n",
       "      <td>0</td>\n",
       "      <td>0</td>\n",
       "      <td>0</td>\n",
       "      <td>0</td>\n",
       "      <td>0</td>\n",
       "      <td>...</td>\n",
       "      <td>0</td>\n",
       "      <td>0</td>\n",
       "      <td>0</td>\n",
       "      <td>0</td>\n",
       "      <td>0</td>\n",
       "      <td>0</td>\n",
       "      <td>0</td>\n",
       "      <td>0</td>\n",
       "      <td>0</td>\n",
       "      <td>0</td>\n",
       "    </tr>\n",
       "    <tr>\n",
       "      <th>69997</th>\n",
       "      <td>0</td>\n",
       "      <td>0</td>\n",
       "      <td>0</td>\n",
       "      <td>0</td>\n",
       "      <td>0</td>\n",
       "      <td>0</td>\n",
       "      <td>0</td>\n",
       "      <td>0</td>\n",
       "      <td>0</td>\n",
       "      <td>0</td>\n",
       "      <td>...</td>\n",
       "      <td>0</td>\n",
       "      <td>0</td>\n",
       "      <td>0</td>\n",
       "      <td>0</td>\n",
       "      <td>0</td>\n",
       "      <td>0</td>\n",
       "      <td>0</td>\n",
       "      <td>0</td>\n",
       "      <td>0</td>\n",
       "      <td>0</td>\n",
       "    </tr>\n",
       "    <tr>\n",
       "      <th>69998</th>\n",
       "      <td>0</td>\n",
       "      <td>0</td>\n",
       "      <td>0</td>\n",
       "      <td>0</td>\n",
       "      <td>0</td>\n",
       "      <td>0</td>\n",
       "      <td>0</td>\n",
       "      <td>0</td>\n",
       "      <td>0</td>\n",
       "      <td>0</td>\n",
       "      <td>...</td>\n",
       "      <td>0</td>\n",
       "      <td>0</td>\n",
       "      <td>0</td>\n",
       "      <td>0</td>\n",
       "      <td>0</td>\n",
       "      <td>0</td>\n",
       "      <td>0</td>\n",
       "      <td>0</td>\n",
       "      <td>0</td>\n",
       "      <td>0</td>\n",
       "    </tr>\n",
       "    <tr>\n",
       "      <th>69999</th>\n",
       "      <td>0</td>\n",
       "      <td>0</td>\n",
       "      <td>0</td>\n",
       "      <td>0</td>\n",
       "      <td>0</td>\n",
       "      <td>0</td>\n",
       "      <td>0</td>\n",
       "      <td>0</td>\n",
       "      <td>0</td>\n",
       "      <td>0</td>\n",
       "      <td>...</td>\n",
       "      <td>0</td>\n",
       "      <td>0</td>\n",
       "      <td>0</td>\n",
       "      <td>0</td>\n",
       "      <td>0</td>\n",
       "      <td>0</td>\n",
       "      <td>0</td>\n",
       "      <td>0</td>\n",
       "      <td>0</td>\n",
       "      <td>0</td>\n",
       "    </tr>\n",
       "  </tbody>\n",
       "</table>\n",
       "<p>70000 rows × 784 columns</p>\n",
       "</div>"
      ],
      "text/plain": [
       "       pixel1  pixel2  pixel3  pixel4  pixel5  pixel6  pixel7  pixel8  pixel9  \\\n",
       "0           0       0       0       0       0       0       0       0       0   \n",
       "1           0       0       0       0       0       0       0       0       0   \n",
       "2           0       0       0       0       0       0       0       0       0   \n",
       "3           0       0       0       0       0       0       0       0       0   \n",
       "4           0       0       0       0       0       0       0       0       0   \n",
       "...       ...     ...     ...     ...     ...     ...     ...     ...     ...   \n",
       "69995       0       0       0       0       0       0       0       0       0   \n",
       "69996       0       0       0       0       0       0       0       0       0   \n",
       "69997       0       0       0       0       0       0       0       0       0   \n",
       "69998       0       0       0       0       0       0       0       0       0   \n",
       "69999       0       0       0       0       0       0       0       0       0   \n",
       "\n",
       "       pixel10  ...  pixel775  pixel776  pixel777  pixel778  pixel779  \\\n",
       "0            0  ...         0         0         0         0         0   \n",
       "1            0  ...         0         0         0         0         0   \n",
       "2            0  ...         0         0         0         0         0   \n",
       "3            0  ...         0         0         0         0         0   \n",
       "4            0  ...         0         0         0         0         0   \n",
       "...        ...  ...       ...       ...       ...       ...       ...   \n",
       "69995        0  ...         0         0         0         0         0   \n",
       "69996        0  ...         0         0         0         0         0   \n",
       "69997        0  ...         0         0         0         0         0   \n",
       "69998        0  ...         0         0         0         0         0   \n",
       "69999        0  ...         0         0         0         0         0   \n",
       "\n",
       "       pixel780  pixel781  pixel782  pixel783  pixel784  \n",
       "0             0         0         0         0         0  \n",
       "1             0         0         0         0         0  \n",
       "2             0         0         0         0         0  \n",
       "3             0         0         0         0         0  \n",
       "4             0         0         0         0         0  \n",
       "...         ...       ...       ...       ...       ...  \n",
       "69995         0         0         0         0         0  \n",
       "69996         0         0         0         0         0  \n",
       "69997         0         0         0         0         0  \n",
       "69998         0         0         0         0         0  \n",
       "69999         0         0         0         0         0  \n",
       "\n",
       "[70000 rows x 784 columns]"
      ]
     },
     "execution_count": 6,
     "metadata": {},
     "output_type": "execute_result"
    }
   ],
   "source": [
    "X"
   ]
  },
  {
   "cell_type": "code",
   "execution_count": 7,
   "id": "ca9f4c9f-82c9-4849-82aa-abe4ed92404f",
   "metadata": {},
   "outputs": [
    {
     "data": {
      "text/plain": [
       "0        5\n",
       "1        0\n",
       "2        4\n",
       "3        1\n",
       "4        9\n",
       "        ..\n",
       "69995    2\n",
       "69996    3\n",
       "69997    4\n",
       "69998    5\n",
       "69999    6\n",
       "Name: class, Length: 70000, dtype: int64"
      ]
     },
     "execution_count": 7,
     "metadata": {},
     "output_type": "execute_result"
    }
   ],
   "source": [
    "y # printing labels or the answers"
   ]
  },
  {
   "cell_type": "code",
   "execution_count": 8,
   "id": "1437ae50-f171-49ee-9d42-58004a327517",
   "metadata": {},
   "outputs": [
    {
     "data": {
      "text/plain": [
       "(70000, 784)"
      ]
     },
     "execution_count": 8,
     "metadata": {},
     "output_type": "execute_result"
    }
   ],
   "source": [
    "X.shape"
   ]
  },
  {
   "cell_type": "code",
   "execution_count": 9,
   "id": "e1c37adf-3aa5-4e67-90b6-f682f65f9922",
   "metadata": {},
   "outputs": [],
   "source": [
    "# import matplotlib\n",
    "import matplotlib.pyplot as plt"
   ]
  },
  {
   "cell_type": "code",
   "execution_count": 10,
   "id": "6dd58ee3-1fb7-4a25-a250-9279f4e639cc",
   "metadata": {},
   "outputs": [
    {
     "name": "stdout",
     "output_type": "stream",
     "text": [
      "old shape: (784,)\n",
      "new shape: (28, 28)\n"
     ]
    }
   ],
   "source": [
    "# we have 70,000 images and each image have 784 features (28x28=784), img size = 28x28\n",
    "# randomly selecting a data/image, 2nd image of 70,000 images\n",
    "digit = 1\n",
    "some_digit = X.iloc[digit]\n",
    "print('old shape:', some_digit.shape) # 1d array: size: 784\n",
    "\n",
    "some_digit_image = some_digit.values.reshape(28, 28)\n",
    "print('new shape:', some_digit_image.shape) # 2d array: size: 28x28\n",
    "\n"
   ]
  },
  {
   "cell_type": "code",
   "execution_count": 11,
   "id": "c55c85dc-bfe9-467b-bdfb-b4dd5e5b1f5e",
   "metadata": {},
   "outputs": [
    {
     "data": {
      "image/png": "[encoded data removed]",
      "text/plain": [
       "<Figure size 640x480 with 1 Axes>"
      ]
     },
     "metadata": {},
     "output_type": "display_data"
    }
   ],
   "source": [
    "# After converting some_digit_image into 28x28 NumPy array\n",
    "plt.imshow(some_digit_image, cmap=plt.cm.binary, interpolation='nearest')\n",
    "# plt.axis('off')\n",
    "plt.show()\n"
   ]
  },
  {
   "cell_type": "code",
   "execution_count": 12,
   "id": "e1480de1-e34d-4c76-b533-0a6d75b2a94b",
   "metadata": {},
   "outputs": [
    {
     "data": {
      "text/plain": [
       "0"
      ]
     },
     "execution_count": 12,
     "metadata": {},
     "output_type": "execute_result"
    }
   ],
   "source": [
    "y[digit]"
   ]
  },
  {
   "cell_type": "code",
   "execution_count": 13,
   "id": "4bff6b75-d765-4662-a27d-3af8a2ff3884",
   "metadata": {},
   "outputs": [],
   "source": [
    "x_train = mnist.data[:60000] # first 60,000 images for training\n",
    "x_test  = mnist.data[60000:] # 60,000 to last (i.e. 70,000) is for testing "
   ]
  },
  {
   "cell_type": "code",
   "execution_count": 14,
   "id": "91c6920a-e889-448c-874b-9360f2ed4e06",
   "metadata": {},
   "outputs": [],
   "source": [
    "y_train = mnist.target[:60000]\n",
    "y_test  = mnist.target[60000:] "
   ]
  },
  {
   "cell_type": "code",
   "execution_count": 15,
   "id": "9bb2bdee-ec27-4d3c-a37e-d3862e0129df",
   "metadata": {},
   "outputs": [],
   "source": [
    "import numpy as np\n",
    "# it's a good practice\n",
    "# for preventing overfitting\n",
    "# This technique is commonly employed to ensure that the model does not learn patterns based on \n",
    "# the order of the training data.\n",
    "\n",
    "# Assuming you have x_train and y_train datasets\n",
    "shuffle_index = np.random.permutation(60000)  # 60000 is the number of training samples\n",
    "\n",
    "x_train, y_train = x_train.iloc[shuffle_index], y_train.iloc[shuffle_index]\n"
   ]
  },
  {
   "cell_type": "code",
   "execution_count": 16,
   "id": "38e9fcbd-c60c-433e-b083-be4f586acc02",
   "metadata": {},
   "outputs": [],
   "source": [
    "y_train   = y_train.astype(np.int8)\n",
    "y_test    = y_test.astype(np.int8)"
   ]
  },
  {
   "cell_type": "markdown",
   "id": "b4a3dcaf-090f-423c-b604-597f243b7e4c",
   "metadata": {},
   "source": [
    "# CALCULATING ACCURACY OF MODEL"
   ]
  },
  {
   "cell_type": "code",
   "execution_count": 17,
   "id": "dee09eba-3f23-4af3-a5e5-dbb4d0091ca4",
   "metadata": {},
   "outputs": [
    {
     "ename": "NameError",
     "evalue": "name 'recall_score' is not defined",
     "output_type": "error",
     "traceback": [
      "\u001b[0;31m---------------------------------------------------------------------------\u001b[0m",
      "\u001b[0;31mNameError\u001b[0m                                 Traceback (most recent call last)",
      "Cell \u001b[0;32mIn[17], line 1\u001b[0m\n\u001b[0;32m----> 1\u001b[0m recall_target1 \u001b[38;5;241m=\u001b[39m \u001b[43mrecall_score\u001b[49m(y_train, predicted_labels_target1, average\u001b[38;5;241m=\u001b[39m\u001b[38;5;124m'\u001b[39m\u001b[38;5;124mmacro\u001b[39m\u001b[38;5;124m'\u001b[39m)\n\u001b[1;32m      2\u001b[0m \u001b[38;5;28mprint\u001b[39m(\u001b[38;5;124m\"\u001b[39m\u001b[38;5;124mRecall for Target 1:\u001b[39m\u001b[38;5;124m\"\u001b[39m, recall_target1)\n",
      "\u001b[0;31mNameError\u001b[0m: name 'recall_score' is not defined"
     ]
    }
   ],
   "source": [
    "recall_target1 = recall_score(y_train, predicted_labels_target1, average='macro')\n",
    "print(\"Recall for Target 1:\", recall_target1)"
   ]
  },
  {
   "cell_type": "code",
   "execution_count": null,
   "id": "fc0cfb4c-94ed-4448-89d9-c6b6b36fbdb6",
   "metadata": {},
   "outputs": [],
   "source": [
    "recall_target2 = recall_score(y_train_0, predicted_labels_target2, average='binary')\n",
    "print(\"Recall for Target 2:\", recall_target2)"
   ]
  },
  {
   "cell_type": "markdown",
   "id": "421b461f-66cb-44e3-af03-937ebabedd48",
   "metadata": {},
   "source": [
    "## 2. F1-SCORE"
   ]
  },
  {
   "cell_type": "code",
   "execution_count": null,
   "id": "9d0e395d-1ec7-4b81-815a-849e51192216",
   "metadata": {},
   "outputs": [],
   "source": [
    "f1_target1 = f1_score(y_train, predicted_labels_target1, average='macro')\n",
    "print(\"F1-Score for Target 1:\", f1_target1)"
   ]
  },
  {
   "cell_type": "code",
   "execution_count": null,
   "id": "1062e1a7-6904-4b13-acef-d9614f7d2245",
   "metadata": {},
   "outputs": [],
   "source": [
    "f1_target2 = f1_score(y_train_0, predicted_labels_target2, average='binary')\n",
    "print(\"F1-Score for Target 2:\", f1_target2)"
   ]
  },
  {
   "cell_type": "markdown",
   "id": "37f60725-2a11-4caf-8c32-7dd5e28d94dc",
   "metadata": {},
   "source": [
    "## 3. Confusion matrix"
   ]
  },
  {
   "cell_type": "code",
   "execution_count": null,
   "id": "2f30c990-1f38-4cff-99e9-231c561b0c62",
   "metadata": {},
   "outputs": [],
   "source": [
    "conf_matrix_target1 = confusion_matrix(y_train, predicted_labels_target1)\n",
    "print(\"Confusion Matrix for Target 1:\")\n",
    "print(conf_matrix_target1)"
   ]
  },
  {
   "cell_type": "code",
   "execution_count": null,
   "id": "69cac8f8-0eb9-4fd5-ab2f-27b5972e3e27",
   "metadata": {},
   "outputs": [],
   "source": [
    "conf_matrix_target2 = confusion_matrix(y_train_0, predicted_labels_target2)\n",
    "print(\"\\nConfusion Matrix for Target 2:\")\n",
    "print(conf_matrix_target2)"
   ]
  },
  {
   "cell_type": "markdown",
   "id": "336bb2ce-c01e-4653-9630-c2808d9f197b",
   "metadata": {},
   "source": [
    "## 4. Precision"
   ]
  },
  {
   "cell_type": "code",
   "execution_count": null,
   "id": "2e9eeeb2-99bc-4e52-afec-648bd60ff602",
   "metadata": {},
   "outputs": [],
   "source": [
    "precision_target1 = precision_score(y_train, predicted_labels_target1, average='macro')\n",
    "print(\"\\nPrecision for Target 1:\", precision_target1)"
   ]
  },
  {
   "cell_type": "code",
   "execution_count": null,
   "id": "b3d958b2-ad4e-49dd-82cd-c0098a00d4b7",
   "metadata": {},
   "outputs": [],
   "source": [
    "precision_target2 = precision_score(y_train_0, predicted_labels_target2, average='binary')\n",
    "print(\"\\nPrecision for Target 2:\", precision_target2)"
   ]
  },
  {
   "cell_type": "markdown",
   "id": "26e7ab6c-6ac7-4414-b0d9-1e306eaa200a",
   "metadata": {},
   "source": [
    "## 5. Accuracy"
   ]
  },
  {
   "cell_type": "code",
   "execution_count": null,
   "id": "8a61ead3-fce1-4c45-872a-2377af86ccbb",
   "metadata": {},
   "outputs": [],
   "source": [
    "from sklearn.metrics import accuracy_score\n",
    "\n",
    "# Accuracy\n",
    "accuracy_target1 = accuracy_score(y_train, predicted_labels_target1)\n",
    "accuracy_target2 = accuracy_score(y_train_0, predicted_labels_target2)\n",
    "\n",
    "# Print the results\n",
    "print(\"\\nAccuracy for Target 1:\", accuracy_target1)\n",
    "print(\"Accuracy for Target 2:\",   accuracy_target2)"
   ]
  },
  {
   "cell_type": "code",
   "execution_count": null,
   "id": "8e62b9d6-c24e-49ff-89a3-03cd97a3c140",
   "metadata": {},
   "outputs": [],
   "source": [
    "y_test_0 = (y_test == 0)\n",
    "\n",
    "# Create a Logistic Regression model\n",
    "clf = LogisticRegression(tol=0.1, max_iter=1000, solver='liblinear')\n",
    "\n",
    "# Get predicted labels using cross-validation on the test set\n",
    "predicted_labels_target1 = cross_val_predict(clf, x_test, y_test, cv=3)\n",
    "predicted_labels_target2 = cross_val_predict(clf, x_test, y_test_0, cv=3)\n",
    "\n",
    "# Confusion Matrix\n",
    "conf_matrix_target1 = confusion_matrix(y_test, predicted_labels_target1)\n",
    "conf_matrix_target2 = confusion_matrix(y_test_0, predicted_labels_target2)\n",
    "\n",
    "# Accuracy\n",
    "accuracy_target1 = accuracy_score(y_test, predicted_labels_target1)\n",
    "accuracy_target2 = accuracy_score(y_test_0, predicted_labels_target2)\n",
    "\n",
    "# Precision, Recall, and F1-Score\n",
    "precision_target1 = precision_score(y_test, predicted_labels_target1, average='macro')\n",
    "recall_target1 = recall_score(y_test, predicted_labels_target1, average='macro')\n",
    "f1_target1 = f1_score(y_test, predicted_labels_target1, average='macro')\n",
    "\n",
    "precision_target2 = precision_score(y_test_0, predicted_labels_target2, average='binary')\n",
    "recall_target2 = recall_score(y_test_0, predicted_labels_target2, average='binary')\n",
    "f1_target2 = f1_score(y_test_0, predicted_labels_target2, average='binary')\n",
    "\n",
    "\n"
   ]
  },
  {
   "cell_type": "code",
   "execution_count": null,
   "id": "3b7c80c7-152c-4525-b00a-6b5b51aa8b80",
   "metadata": {},
   "outputs": [],
   "source": [
    "print(\"Confusion Matrix for Target 1:\")\n",
    "print(conf_matrix_target1)\n",
    "\n",
    "print(\"\\nAccuracy for Target 1:\", accuracy_target1)\n",
    "print(\"Precision for Target 1:\", precision_target1)\n",
    "print(\"Recall for Target 1:\", recall_target1)\n",
    "print(\"F1-Score for Target 1:\", f1_target1)\n",
    "\n"
   ]
  },
  {
   "cell_type": "code",
   "execution_count": null,
   "id": "d7349ceb-5b04-4a57-a379-ded9d1e69ecd",
   "metadata": {},
   "outputs": [],
   "source": [
    "print(\"\\nConfusion Matrix for Target 2:\")\n",
    "print(conf_matrix_target2)\n",
    "\n",
    "print(\"\\nAccuracy for Target 2:\", accuracy_target2)\n",
    "print(\"\\nPrecision for Target 2:\", precision_target2)\n",
    "print(\"Recall for Target 2:\", recall_target2)\n",
    "print(\"F1-Score for Target 2:\", f1_target2)"
   ]
  },
  {
   "cell_type": "markdown",
   "id": "65b5c3c0-9bc1-4eeb-bd73-8225acf69589",
   "metadata": {},
   "source": [
    "## 1. LOGESTIC REGRESSOIN"
   ]
  },
  {
   "cell_type": "code",
   "execution_count": 18,
   "id": "10e5e0c4-dc24-4610-b63e-43cbbab29849",
   "metadata": {},
   "outputs": [
    {
     "name": "stdout",
     "output_type": "stream",
     "text": [
      "\n",
      "Logistic Regression Metrics on the Training Set:\n",
      "Confusion Matrix for Target 1 (Logistic Regression):\n",
      "[[5742    2   14   13   17   21   49    6   53    6]\n",
      " [   1 6537   33   19    8   35    7   11   82    9]\n",
      " [  50   89 5184   96  101   21   87  107  196   27]\n",
      " [  38   54  146 5346   11  190   46   78  149   73]\n",
      " [  12   42   45   11 5312    7   48   11   70  284]\n",
      " [ 109   50   33  267   90 4344  122   35  254  117]\n",
      " [  39   26   34    6   47   75 5639    5   44    3]\n",
      " [  28   73   63   18   78   10    6 5743   31  215]\n",
      " [  62  220   71  158   44  213   46   41 4903   93]\n",
      " [  48   38   35  103  225   33    5  204   65 5193]]\n",
      "\n",
      "Accuracy for Target 1 (Logistic Regression): 0.89905\n",
      "Precision for Target 1 (Logistic Regression): 0.8981083369461885\n",
      "Recall for Target 1 (Logistic Regression): 0.8972125256127563\n",
      "F1-Score for Target 1 (Logistic Regression): 0.8972985587627207\n",
      "\n",
      "Logistic Regression Metrics on the Test Set:\n",
      "Confusion Matrix for Target 1 (Logistic Regression):\n",
      "[[ 952    0    0    3    4    1    8    1   10    1]\n",
      " [   0 1084    1    4    1    2    4    2   36    1]\n",
      " [   6   11  873   15   29    4   15   22   50    7]\n",
      " [   2    2   23  889    2   26    6   17   25   18]\n",
      " [   2    2    8    1  885    0   10    1   19   54]\n",
      " [  12   11    4   44   30  684   20   10   54   23]\n",
      " [  10    3    6    1   11   13  895    3   15    1]\n",
      " [   1   22   20    5   11    2    1  915    6   45]\n",
      " [  14   22   10   27    9   29   11   17  818   17]\n",
      " [  13   11    5   15   54    7    1   40   18  845]]\n",
      "\n",
      "Accuracy for Target 1 (Logistic Regression): 0.884\n",
      "Precision for Target 1 (Logistic Regression): 0.8843165902354378\n",
      "Recall for Target 1 (Logistic Regression): 0.8822275422786957\n",
      "F1-Score for Target 1 (Logistic Regression): 0.8824295832965341\n"
     ]
    }
   ],
   "source": [
    "from sklearn.linear_model import LogisticRegression\n",
    "from sklearn.model_selection import cross_val_predict\n",
    "from sklearn.metrics import confusion_matrix, precision_score, recall_score, f1_score, accuracy_score\n",
    "\n",
    "# Create a Logistic Regression model for training\n",
    "clf_train = LogisticRegression(tol=0.1, max_iter=1000, solver='liblinear')\n",
    "\n",
    "# Get predicted labels using cross-validation on the training set for Logistic Regression\n",
    "predicted_labels_target1_train = cross_val_predict(clf_train, x_train, y_train, cv=3)\n",
    "\n",
    "# Confusion Matrix for Logistic Regression on the training set\n",
    "conf_matrix_target1_train = confusion_matrix(y_train, predicted_labels_target1_train)\n",
    "\n",
    "# Accuracy for Logistic Regression on the training set\n",
    "accuracy_target1_train = accuracy_score(y_train, predicted_labels_target1_train)\n",
    "\n",
    "# Precision, Recall, and F1-Score for Logistic Regression on the training set\n",
    "precision_target1_train = precision_score(y_train, predicted_labels_target1_train, average='macro')\n",
    "recall_target1_train = recall_score(y_train, predicted_labels_target1_train, average='macro')\n",
    "f1_target1_train = f1_score(y_train, predicted_labels_target1_train, average='macro')\n",
    "\n",
    "# Print the results for Logistic Regression on the training set\n",
    "print(\"\\nLogistic Regression Metrics on the Training Set:\")\n",
    "print(\"Confusion Matrix for Target 1 (Logistic Regression):\")\n",
    "print(conf_matrix_target1_train)\n",
    "\n",
    "print(\"\\nAccuracy for Target 1 (Logistic Regression):\", accuracy_target1_train)\n",
    "print(\"Precision for Target 1 (Logistic Regression):\", precision_target1_train)\n",
    "print(\"Recall for Target 1 (Logistic Regression):\", recall_target1_train)\n",
    "print(\"F1-Score for Target 1 (Logistic Regression):\", f1_target1_train)\n",
    "\n",
    "# Create a Logistic Regression model for testing\n",
    "clf_test = LogisticRegression(tol=0.1, max_iter=1000, solver='liblinear')\n",
    "\n",
    "# Get predicted labels using cross-validation on the test set for Logistic Regression\n",
    "predicted_labels_target1_test = cross_val_predict(clf_test, x_test, y_test, cv=3)\n",
    "\n",
    "# Confusion Matrix for Logistic Regression on the test set\n",
    "conf_matrix_target1_test = confusion_matrix(y_test, predicted_labels_target1_test)\n",
    "\n",
    "# Accuracy for Logistic Regression on the test set\n",
    "accuracy_target1_test = accuracy_score(y_test, predicted_labels_target1_test)\n",
    "\n",
    "# Precision, Recall, and F1-Score for Logistic Regression on the test set\n",
    "precision_target1_test = precision_score(y_test, predicted_labels_target1_test, average='macro')\n",
    "recall_target1_test = recall_score(y_test, predicted_labels_target1_test, average='macro')\n",
    "f1_target1_test = f1_score(y_test, predicted_labels_target1_test, average='macro')\n",
    "\n",
    "# Print the results for Logistic Regression on the test set\n",
    "print(\"\\nLogistic Regression Metrics on the Test Set:\")\n",
    "print(\"Confusion Matrix for Target 1 (Logistic Regression):\")\n",
    "print(conf_matrix_target1_test)\n",
    "\n",
    "print(\"\\nAccuracy for Target 1 (Logistic Regression):\", accuracy_target1_test)\n",
    "print(\"Precision for Target 1 (Logistic Regression):\", precision_target1_test)\n",
    "print(\"Recall for Target 1 (Logistic Regression):\", recall_target1_test)\n",
    "print(\"F1-Score for Target 1 (Logistic Regression):\", f1_target1_test)\n"
   ]
  },
  {
   "cell_type": "markdown",
   "id": "9913042e-3fce-448b-a34b-b51ea5f8e5ec",
   "metadata": {},
   "source": [
    "# 2. DECISION TREE"
   ]
  },
  {
   "cell_type": "code",
   "execution_count": 19,
   "id": "7aee323a-1262-4687-a9f3-572025f708cf",
   "metadata": {},
   "outputs": [
    {
     "name": "stdout",
     "output_type": "stream",
     "text": [
      "\n",
      "Decision Tree Metrics on the Training Set:\n",
      "Confusion Matrix for Target 1 (Decision Tree):\n",
      "[[5428    9   58   48   37  100   91   20   80   52]\n",
      " [   2 6410   67   51   28   33   29   34   61   27]\n",
      " [  72   93 4982  169   82   81  123  121  156   79]\n",
      " [  59   64  175 5039   47  292   34   99  194  128]\n",
      " [  43   39   84   39 5024   69   86   81  103  274]\n",
      " [  95   53   53  246   78 4419  154   39  160  124]\n",
      " [  89   41   88   39   78  159 5270   15  103   36]\n",
      " [  35   48  131   90   76   37   10 5598   55  185]\n",
      " [  65  111  174  218  117  193  112   71 4597  193]\n",
      " [  38   37   58  120  252  126   28  190  136 4964]]\n",
      "\n",
      "Accuracy for Target 1 (Decision Tree): 0.8621833333333333\n",
      "Precision for Target 1 (Decision Tree): 0.8604156797186697\n",
      "Recall for Target 1 (Decision Tree): 0.8604544732245841\n",
      "F1-Score for Target 1 (Decision Tree): 0.8603753038378127\n",
      "\n",
      "Decision Tree Metrics on the Test Set:\n",
      "Confusion Matrix for Target 1 (Decision Tree):\n",
      "[[ 835    0   25   19    9   28   29    8   20    7]\n",
      " [   7 1047   10   17    8   12    6    9   16    3]\n",
      " [  27   23  734   55   36   22   27   42   42   24]\n",
      " [  16   15   36  731    6  105   12   25   34   30]\n",
      " [  10   15   19   17  724   27   27   29   31   83]\n",
      " [  22   14   18   84   16  622   37   10   39   30]\n",
      " [  24   20   36   22   43   41  721    8   28   15]\n",
      " [  12   19   50   17   25   10    6  833    7   49]\n",
      " [  16   25   40   57   35   46   31   16  651   57]\n",
      " [   9    6   10   23   77   37   17   55   39  736]]\n",
      "\n",
      "Accuracy for Target 1 (Decision Tree): 0.7634\n",
      "Precision for Target 1 (Decision Tree): 0.7608472358465874\n",
      "Recall for Target 1 (Decision Tree): 0.7604824550835636\n",
      "F1-Score for Target 1 (Decision Tree): 0.7603428816223945\n"
     ]
    }
   ],
   "source": [
    "from sklearn.tree import DecisionTreeClassifier\n",
    "\n",
    "# Create a Decision Tree model for training\n",
    "dt_clf_train = DecisionTreeClassifier()\n",
    "\n",
    "# Get predicted labels using cross-validation on the training set for Decision Tree\n",
    "predicted_labels_target1_train_dt = cross_val_predict(dt_clf_train, x_train, y_train, cv=3)\n",
    "\n",
    "# Confusion Matrix for Decision Tree on the training set\n",
    "conf_matrix_target1_train_dt = confusion_matrix(y_train, predicted_labels_target1_train_dt)\n",
    "\n",
    "# Accuracy for Decision Tree on the training set\n",
    "accuracy_target1_train_dt = accuracy_score(y_train, predicted_labels_target1_train_dt)\n",
    "\n",
    "# Precision, Recall, and F1-Score for Decision Tree on the training set\n",
    "precision_target1_train_dt = precision_score(y_train, predicted_labels_target1_train_dt, average='macro')\n",
    "recall_target1_train_dt = recall_score(y_train, predicted_labels_target1_train_dt, average='macro')\n",
    "f1_target1_train_dt = f1_score(y_train, predicted_labels_target1_train_dt, average='macro')\n",
    "\n",
    "# Print the results for Decision Tree on the training set\n",
    "print(\"\\nDecision Tree Metrics on the Training Set:\")\n",
    "print(\"Confusion Matrix for Target 1 (Decision Tree):\")\n",
    "print(conf_matrix_target1_train_dt)\n",
    "\n",
    "print(\"\\nAccuracy for Target 1 (Decision Tree):\", accuracy_target1_train_dt)\n",
    "print(\"Precision for Target 1 (Decision Tree):\", precision_target1_train_dt)\n",
    "print(\"Recall for Target 1 (Decision Tree):\", recall_target1_train_dt)\n",
    "print(\"F1-Score for Target 1 (Decision Tree):\", f1_target1_train_dt)\n",
    "\n",
    "# Create a Decision Tree model for testing\n",
    "dt_clf_test = DecisionTreeClassifier()\n",
    "\n",
    "# Get predicted labels using cross-validation on the test set for Decision Tree\n",
    "predicted_labels_target1_test_dt = cross_val_predict(dt_clf_test, x_test, y_test, cv=3)\n",
    "\n",
    "# Confusion Matrix for Decision Tree on the test set\n",
    "conf_matrix_target1_test_dt = confusion_matrix(y_test, predicted_labels_target1_test_dt)\n",
    "\n",
    "# Accuracy for Decision Tree on the test set\n",
    "accuracy_target1_test_dt = accuracy_score(y_test, predicted_labels_target1_test_dt)\n",
    "\n",
    "# Precision, Recall, and F1-Score for Decision Tree on the test set\n",
    "precision_target1_test_dt = precision_score(y_test, predicted_labels_target1_test_dt, average='macro')\n",
    "recall_target1_test_dt = recall_score(y_test, predicted_labels_target1_test_dt, average='macro')\n",
    "f1_target1_test_dt = f1_score(y_test, predicted_labels_target1_test_dt, average='macro')\n",
    "\n",
    "# Print the results for Decision Tree on the test set\n",
    "print(\"\\nDecision Tree Metrics on the Test Set:\")\n",
    "print(\"Confusion Matrix for Target 1 (Decision Tree):\")\n",
    "print(conf_matrix_target1_test_dt)\n",
    "\n",
    "print(\"\\nAccuracy for Target 1 (Decision Tree):\", accuracy_target1_test_dt)\n",
    "print(\"Precision for Target 1 (Decision Tree):\", precision_target1_test_dt)\n",
    "print(\"Recall for Target 1 (Decision Tree):\", recall_target1_test_dt)\n",
    "print(\"F1-Score for Target 1 (Decision Tree):\", f1_target1_test_dt)\n"
   ]
  },
  {
   "cell_type": "markdown",
   "id": "45617fa3-11a7-42bb-818c-2c4302f8c428",
   "metadata": {},
   "source": [
    "# COMPARING LOGESTIC REGRESSION VS DECISION TREE ALGORITHMS"
   ]
  },
  {
   "cell_type": "code",
   "execution_count": 22,
   "id": "4d068277-1559-4348-9c75-c1e411097fe9",
   "metadata": {},
   "outputs": [
    {
     "data": {
      "image/png": "[encoded data removed]",
      "text/plain": [
       "<Figure size 1200x1000 with 4 Axes>"
      ]
     },
     "metadata": {},
     "output_type": "display_data"
    }
   ],
   "source": [
    "import matplotlib.pyplot as plt\n",
    "\n",
    "# Define labels for the algorithms and datasets\n",
    "labels = ['Logistic Regression (Train)', 'Logistic Regression (Test)', 'Decision Tree (Train)', 'Decision Tree (Test)']\n",
    "\n",
    "# Define the corresponding performance metric values\n",
    "accuracy_values = [accuracy_target1_train, accuracy_target1_test, accuracy_target1_train_dt, accuracy_target1_test_dt]\n",
    "precision_values = [precision_target1_train, precision_target1_test, precision_target1_train_dt, precision_target1_test_dt]\n",
    "recall_values = [recall_target1_train, recall_target1_test, recall_target1_train_dt, recall_target1_test_dt]\n",
    "f1_values = [f1_target1_train, f1_target1_test, f1_target1_train_dt, f1_target1_test_dt]\n",
    "\n",
    "# Create subplots for each metric\n",
    "fig, axs = plt.subplots(2, 2, figsize=(12, 10))\n",
    "\n",
    "# Plot Accuracy\n",
    "axs[0, 0].bar(labels, accuracy_values, color=['blue', 'orange', 'green', 'red'])\n",
    "axs[0, 0].set_title('Accuracy')\n",
    "axs[0, 0].tick_params(axis='x', labelrotation=45, labelsize=8)  # Adjust label rotation and font size\n",
    "\n",
    "# Plot Precision\n",
    "axs[0, 1].bar(labels, precision_values, color=['blue', 'orange', 'green', 'red'])\n",
    "axs[0, 1].set_title('Precision')\n",
    "axs[0, 1].tick_params(axis='x', labelrotation=45, labelsize=8)  # Adjust label rotation and font size\n",
    "\n",
    "# Plot Recall\n",
    "axs[1, 0].bar(labels, recall_values, color=['blue', 'orange', 'green', 'red'])\n",
    "axs[1, 0].set_title('Recall')\n",
    "axs[1, 0].tick_params(axis='x', labelrotation=45, labelsize=8)  # Adjust label rotation and font size\n",
    "\n",
    "# Plot F1-Score\n",
    "axs[1, 1].bar(labels, f1_values, color=['blue', 'orange', 'green', 'red'])\n",
    "axs[1, 1].set_title('F1-Score')\n",
    "axs[1, 1].tick_params(axis='x', labelrotation=45, labelsize=8)  # Adjust label rotation and font size\n",
    "\n",
    "# Adjust layout\n",
    "plt.tight_layout()\n",
    "\n",
    "# Show the plot\n",
    "plt.show()\n"
   ]
  },
  {
   "cell_type": "code",
   "execution_count": null,
   "id": "9fba62e9-15c3-4d4a-862c-a6cc166c48f5",
   "metadata": {},
   "outputs": [],
   "source": []
  }
 ],
 "metadata": {
  "kernelspec": {
   "display_name": "Python 3 (ipykernel)",
   "language": "python",
   "name": "python3"
  },
  "language_info": {
   "codemirror_mode": {
    "name": "ipython",
    "version": 3
   },
   "file_extension": ".py",
   "mimetype": "text/x-python",
   "name": "python",
   "nbconvert_exporter": "python",
   "pygments_lexer": "ipython3",
   "version": "3.11.6"
  }
 },
 "nbformat": 4,
 "nbformat_minor": 5
}
